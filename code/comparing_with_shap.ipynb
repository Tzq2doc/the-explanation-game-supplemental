{
 "cells": [
  {
   "cell_type": "code",
   "execution_count": 1,
   "metadata": {},
   "outputs": [],
   "source": [
    "import pathlib\n",
    "\n",
    "import lightgbm as lgb\n",
    "import matplotlib.pyplot as plt\n",
    "import numpy as np\n",
    "import pandas as pd\n",
    "import seaborn as sns\n",
    "import shap\n",
    "import tqdm\n",
    "\n",
    "from dataset_fetcher import download_uci_adult\n",
    "from real_games import multi_shapley_values\n",
    "\n",
    "%matplotlib inline"
   ]
  },
  {
   "cell_type": "code",
   "execution_count": 2,
   "metadata": {},
   "outputs": [],
   "source": [
    "sns.set_style()"
   ]
  },
  {
   "cell_type": "code",
   "execution_count": 3,
   "metadata": {},
   "outputs": [],
   "source": [
    "# load data and fit model\n",
    "data_dir = pathlib.Path('adult_dataset')\n",
    "train_df, test_df = download_uci_adult(data_dir)\n",
    "\n",
    "selected_features = ['relationship', 'capitalgain', 'education-num', 'marital-status', 'age']\n",
    "\n",
    "x_train = train_df[selected_features]\n",
    "x_test = test_df[selected_features]\n",
    "y_train = train_df['class']\n",
    "y_test = test_df['class']\n",
    "\n",
    "model = lgb.LGBMClassifier().fit(x_train, y_train)\n",
    "model_fn = lambda x: model.predict_proba(x)[:, 1]"
   ]
  },
  {
   "cell_type": "code",
   "execution_count": 4,
   "metadata": {},
   "outputs": [],
   "source": [
    "class DataFrameMapper:\n",
    "    \"\"\"Maps a dataframe bidirectionally between df and numpy array.\n",
    "    \n",
    "    Necessary to run SHAP with categorical features.\n",
    "    \"\"\"\n",
    "    def __init__(self, df):\n",
    "        self.df = df\n",
    "\n",
    "        # for each categorical variable, create a map between a numerical\n",
    "        # code and the name of that category\n",
    "        self.cat_codes_map = {}\n",
    "        for col in self.df.select_dtypes('category'):\n",
    "            self.cat_codes_map[col] = dict(enumerate(df[col].cat.categories))\n",
    "\n",
    "    @staticmethod\n",
    "    def convert_to_ndarray(df):\n",
    "        # avoid modifying the df in-place\n",
    "        df = df.copy()\n",
    "\n",
    "        # encode categoricals as integers\n",
    "        for c in df.select_dtypes('category'):\n",
    "            df[c] = df[c].cat.codes\n",
    "\n",
    "        # encode booleans as integers\n",
    "        for c in df.select_dtypes('bool'):\n",
    "            df[c] = df[c].astype('uint8')\n",
    "\n",
    "        return df.values\n",
    "\n",
    "    def df_from_ndarray(self, ndarray):\n",
    "        result_df = pd.DataFrame(ndarray, columns=self.df.columns)\n",
    "        for col in self.df:\n",
    "            if col in self.cat_codes_map:\n",
    "                result_df[col] = (result_df[col]\n",
    "                                  .apply(self.cat_codes_map[col].get)\n",
    "                                  .astype(self.df.dtypes[col]))\n",
    "            else:\n",
    "                result_df[col] = result_df[col].astype(self.df.dtypes[col])\n",
    "        return result_df"
   ]
  },
  {
   "cell_type": "markdown",
   "metadata": {},
   "source": [
    "# Verify lemma 1: equivalence"
   ]
  },
  {
   "cell_type": "code",
   "execution_count": 5,
   "metadata": {},
   "outputs": [
    {
     "name": "stdout",
     "output_type": "stream",
     "text": [
      "pre-computing payout functions...\n"
     ]
    },
    {
     "name": "stderr",
     "output_type": "stream",
     "text": [
      "100%|██████████| 16281/16281 [00:01<00:00, 11286.52it/s]\n"
     ]
    },
    {
     "name": "stdout",
     "output_type": "stream",
     "text": [
      "computing shapley values...\n"
     ]
    },
    {
     "name": "stderr",
     "output_type": "stream",
     "text": [
      "100%|██████████| 16281/16281 [00:12<00:00, 1294.25it/s]\n",
      "Using 16281 background data samples could cause slower run times. Consider using shap.kmeans(data, K) to summarize the background as K weighted samples.\n",
      "100%|██████████| 1/1 [00:02<00:00,  2.18s/it]"
     ]
    },
    {
     "name": "stdout",
     "output_type": "stream",
     "text": [
      "Via SHAP:\n",
      "[-0.04101397 -0.03335699 -0.05314692 -0.05783287 -0.04838853]\n",
      "Via averaging games:\n",
      "[-0.04101397 -0.03335699 -0.05314692 -0.05783287 -0.04838853]\n"
     ]
    },
    {
     "name": "stderr",
     "output_type": "stream",
     "text": [
      "\n"
     ]
    }
   ],
   "source": [
    "model_input = x_test.iloc[0:1]\n",
    "\n",
    "_, phi = multi_shapley_values(model_fn, model_input, x_test)\n",
    "\n",
    "mapper = DataFrameMapper(x_test)\n",
    "mapped_model_fn = lambda x: model_fn(mapper.df_from_ndarray(x))\n",
    "exp = shap.KernelExplainer(mapped_model_fn, mapper.convert_to_ndarray(x_test))\n",
    "phi_shap = exp.shap_values(mapper.convert_to_ndarray(model_input), l1_reg=False)[0]\n",
    "\n",
    "print('Via SHAP:')\n",
    "print(phi_shap)\n",
    "print('Via averaging games:')\n",
    "print(phi.mean().values)"
   ]
  },
  {
   "cell_type": "markdown",
   "metadata": {},
   "source": [
    "# CI and bootstrapping\n",
    "Let's imagine that we only have access to 500 counterfactual evaluations, rather than 16k. We will consider the mean of the full 16k as \"ground truth\" and examine how confidence intervals from a Gaussian assumption and from bootstrapping can be used to understand the uncertainty of our smaller 500-point sample."
   ]
  },
  {
   "cell_type": "code",
   "execution_count": 6,
   "metadata": {},
   "outputs": [],
   "source": [
    "phi_mean_ground_truth = phi.mean()"
   ]
  },
  {
   "cell_type": "code",
   "execution_count": 13,
   "metadata": {},
   "outputs": [
    {
     "name": "stdout",
     "output_type": "stream",
     "text": [
      "pre-computing payout functions...\n"
     ]
    },
    {
     "name": "stderr",
     "output_type": "stream",
     "text": [
      "100%|██████████| 500/500 [00:00<00:00, 47621.42it/s]\n"
     ]
    },
    {
     "name": "stdout",
     "output_type": "stream",
     "text": [
      "computing shapley values...\n"
     ]
    },
    {
     "name": "stderr",
     "output_type": "stream",
     "text": [
      "100%|██████████| 500/500 [00:00<00:00, 1322.96it/s]\n",
      "  3%|▎         | 273/10000 [00:00<00:03, 2722.02it/s]"
     ]
    },
    {
     "name": "stdout",
     "output_type": "stream",
     "text": [
      "bootstrapping CI\n"
     ]
    },
    {
     "name": "stderr",
     "output_type": "stream",
     "text": [
      "100%|██████████| 10000/10000 [00:03<00:00, 2744.75it/s]\n"
     ]
    },
    {
     "name": "stdout",
     "output_type": "stream",
     "text": [
      "pre-computing payout functions...\n"
     ]
    },
    {
     "name": "stderr",
     "output_type": "stream",
     "text": [
      "100%|██████████| 500/500 [00:00<00:00, 41425.22it/s]\n"
     ]
    },
    {
     "name": "stdout",
     "output_type": "stream",
     "text": [
      "computing shapley values...\n"
     ]
    },
    {
     "name": "stderr",
     "output_type": "stream",
     "text": [
      "100%|██████████| 500/500 [00:00<00:00, 1235.73it/s]\n",
      "  3%|▎         | 253/10000 [00:00<00:03, 2521.52it/s]"
     ]
    },
    {
     "name": "stdout",
     "output_type": "stream",
     "text": [
      "bootstrapping CI\n"
     ]
    },
    {
     "name": "stderr",
     "output_type": "stream",
     "text": [
      "100%|██████████| 10000/10000 [00:03<00:00, 2694.06it/s]\n"
     ]
    },
    {
     "name": "stdout",
     "output_type": "stream",
     "text": [
      "pre-computing payout functions...\n"
     ]
    },
    {
     "name": "stderr",
     "output_type": "stream",
     "text": [
      "100%|██████████| 500/500 [00:00<00:00, 8112.33it/s]\n"
     ]
    },
    {
     "name": "stdout",
     "output_type": "stream",
     "text": [
      "computing shapley values...\n"
     ]
    },
    {
     "name": "stderr",
     "output_type": "stream",
     "text": [
      "100%|██████████| 500/500 [00:00<00:00, 1211.49it/s]\n",
      "  2%|▏         | 249/10000 [00:00<00:03, 2483.11it/s]"
     ]
    },
    {
     "name": "stdout",
     "output_type": "stream",
     "text": [
      "bootstrapping CI\n"
     ]
    },
    {
     "name": "stderr",
     "output_type": "stream",
     "text": [
      "100%|██████████| 10000/10000 [00:03<00:00, 2766.47it/s]\n"
     ]
    },
    {
     "name": "stdout",
     "output_type": "stream",
     "text": [
      "pre-computing payout functions...\n"
     ]
    },
    {
     "name": "stderr",
     "output_type": "stream",
     "text": [
      "100%|██████████| 500/500 [00:00<00:00, 56936.77it/s]\n"
     ]
    },
    {
     "name": "stdout",
     "output_type": "stream",
     "text": [
      "computing shapley values...\n"
     ]
    },
    {
     "name": "stderr",
     "output_type": "stream",
     "text": [
      "100%|██████████| 500/500 [00:00<00:00, 1279.15it/s]\n",
      "  3%|▎         | 270/10000 [00:00<00:03, 2695.57it/s]"
     ]
    },
    {
     "name": "stdout",
     "output_type": "stream",
     "text": [
      "bootstrapping CI\n"
     ]
    },
    {
     "name": "stderr",
     "output_type": "stream",
     "text": [
      "100%|██████████| 10000/10000 [00:03<00:00, 2758.78it/s]\n"
     ]
    },
    {
     "name": "stdout",
     "output_type": "stream",
     "text": [
      "pre-computing payout functions...\n"
     ]
    },
    {
     "name": "stderr",
     "output_type": "stream",
     "text": [
      "100%|██████████| 500/500 [00:00<00:00, 70272.83it/s]\n"
     ]
    },
    {
     "name": "stdout",
     "output_type": "stream",
     "text": [
      "computing shapley values...\n"
     ]
    },
    {
     "name": "stderr",
     "output_type": "stream",
     "text": [
      "100%|██████████| 500/500 [00:00<00:00, 1246.48it/s]\n",
      "  3%|▎         | 258/10000 [00:00<00:03, 2577.53it/s]"
     ]
    },
    {
     "name": "stdout",
     "output_type": "stream",
     "text": [
      "bootstrapping CI\n"
     ]
    },
    {
     "name": "stderr",
     "output_type": "stream",
     "text": [
      "100%|██████████| 10000/10000 [00:03<00:00, 2721.32it/s]\n"
     ]
    },
    {
     "name": "stdout",
     "output_type": "stream",
     "text": [
      "pre-computing payout functions...\n"
     ]
    },
    {
     "name": "stderr",
     "output_type": "stream",
     "text": [
      "100%|██████████| 500/500 [00:00<00:00, 65307.42it/s]\n"
     ]
    },
    {
     "name": "stdout",
     "output_type": "stream",
     "text": [
      "computing shapley values...\n"
     ]
    },
    {
     "name": "stderr",
     "output_type": "stream",
     "text": [
      "100%|██████████| 500/500 [00:00<00:00, 1222.86it/s]\n",
      "  5%|▌         | 516/10000 [00:00<00:03, 2477.12it/s]"
     ]
    },
    {
     "name": "stdout",
     "output_type": "stream",
     "text": [
      "bootstrapping CI\n"
     ]
    },
    {
     "name": "stderr",
     "output_type": "stream",
     "text": [
      "100%|██████████| 10000/10000 [00:03<00:00, 2724.13it/s]\n"
     ]
    },
    {
     "name": "stdout",
     "output_type": "stream",
     "text": [
      "pre-computing payout functions...\n"
     ]
    },
    {
     "name": "stderr",
     "output_type": "stream",
     "text": [
      "100%|██████████| 500/500 [00:00<00:00, 45006.16it/s]\n"
     ]
    },
    {
     "name": "stdout",
     "output_type": "stream",
     "text": [
      "computing shapley values...\n"
     ]
    },
    {
     "name": "stderr",
     "output_type": "stream",
     "text": [
      "100%|██████████| 500/500 [00:00<00:00, 1160.41it/s]\n",
      "  2%|▏         | 213/10000 [00:00<00:04, 2121.54it/s]"
     ]
    },
    {
     "name": "stdout",
     "output_type": "stream",
     "text": [
      "bootstrapping CI\n"
     ]
    },
    {
     "name": "stderr",
     "output_type": "stream",
     "text": [
      "100%|██████████| 10000/10000 [00:03<00:00, 2698.13it/s]\n"
     ]
    },
    {
     "name": "stdout",
     "output_type": "stream",
     "text": [
      "pre-computing payout functions...\n"
     ]
    },
    {
     "name": "stderr",
     "output_type": "stream",
     "text": [
      "100%|██████████| 500/500 [00:00<00:00, 58079.98it/s]\n"
     ]
    },
    {
     "name": "stdout",
     "output_type": "stream",
     "text": [
      "computing shapley values...\n"
     ]
    },
    {
     "name": "stderr",
     "output_type": "stream",
     "text": [
      "100%|██████████| 500/500 [00:00<00:00, 1251.16it/s]\n",
      "  2%|▏         | 238/10000 [00:00<00:04, 2372.70it/s]"
     ]
    },
    {
     "name": "stdout",
     "output_type": "stream",
     "text": [
      "bootstrapping CI\n"
     ]
    },
    {
     "name": "stderr",
     "output_type": "stream",
     "text": [
      "100%|██████████| 10000/10000 [00:03<00:00, 2690.12it/s]\n"
     ]
    },
    {
     "name": "stdout",
     "output_type": "stream",
     "text": [
      "pre-computing payout functions...\n"
     ]
    },
    {
     "name": "stderr",
     "output_type": "stream",
     "text": [
      "100%|██████████| 500/500 [00:00<00:00, 26450.80it/s]\n"
     ]
    },
    {
     "name": "stdout",
     "output_type": "stream",
     "text": [
      "computing shapley values...\n"
     ]
    },
    {
     "name": "stderr",
     "output_type": "stream",
     "text": [
      "100%|██████████| 500/500 [00:00<00:00, 1250.24it/s]\n",
      "  2%|▏         | 227/10000 [00:00<00:04, 2268.15it/s]"
     ]
    },
    {
     "name": "stdout",
     "output_type": "stream",
     "text": [
      "bootstrapping CI\n"
     ]
    },
    {
     "name": "stderr",
     "output_type": "stream",
     "text": [
      "100%|██████████| 10000/10000 [00:03<00:00, 2714.54it/s]\n"
     ]
    },
    {
     "data": {
      "image/png": "[encoded data removed]",
      "text/plain": [
       "<Figure size 864x864 with 9 Axes>"
      ]
     },
     "metadata": {
      "needs_background": "light"
     },
     "output_type": "display_data"
    }
   ],
   "source": [
    "fig, axes = plt.subplots(3, 3, figsize=(12, 12), sharex=True, sharey=True)\n",
    "axes_iter = (axes[i // 3, i % 3] for i in range(9))\n",
    "palette = sns.color_palette()\n",
    "for seed, ax in enumerate(axes_iter):\n",
    "    x_test_small = x_test.sample(500, random_state=seed)\n",
    "    _, phi = multi_shapley_values(model_fn, model_input, x_test_small)\n",
    "    mean_estimate = phi.mean()\n",
    "    column_names = phi.columns\n",
    "    x_pos = np.arange(len(mean_estimate))\n",
    "    \n",
    "    # bootstrap 95% CI\n",
    "    print('bootstrapping CI')\n",
    "    n_boot = 10_000\n",
    "    rng = np.random.RandomState(seed)\n",
    "    sampled_means = np.array([\n",
    "        phi.sample(phi.shape[0], replace=True, random_state=rng).mean()\n",
    "        for _ in tqdm.tqdm(range(n_boot))\n",
    "    ])\n",
    "    for col_id in range(sampled_means.shape[1]):\n",
    "        sampled_means[:, col_id] = np.sort(sampled_means[:, col_id])\n",
    "    ci_95 = np.array([mean_estimate - sampled_means[int(0.025 * n_boot), :], \n",
    "                      sampled_means[int(0.975 * n_boot), :]  - mean_estimate])\n",
    "    \n",
    "    # compute 2x standard error\n",
    "    twice_stderr = 2 * phi.std() / np.sqrt(phi.shape[0])\n",
    "    \n",
    "    # plot everything\n",
    "    ax.plot(x_pos, mean_estimate, marker='.', ms=10, lw=0, color=palette[0], label='Estimate', alpha=0.7)\n",
    "    ax.plot(x_pos, phi_mean_ground_truth, marker='.', ms=10, lw=0, color=palette[1], label='Ground truth', alpha=0.7)\n",
    "    ax.errorbar(x_pos - 0.15, mean_estimate, yerr=twice_stderr, ecolor=palette[2], elinewidth=2, lw=0, label='$2 \\cdot$ standard error')\n",
    "    ax.errorbar(x_pos + 0.15, mean_estimate, yerr=ci_95, ecolor=palette[3], elinewidth=2, lw=0, label='Bootstrapped 95% CI')\n",
    "    ax.set_xticks(x_pos)\n",
    "    ax.set_xticklabels(column_names, rotation=30, ha='right')\n",
    "    ax.set_title(f'Seed {seed}')\n",
    "legend = fig.legend(*ax.get_legend_handles_labels(), loc='upper right')\n",
    "fig.suptitle('Test')\n",
    "plt.ylim(-0.1, 0)\n",
    "plt.show()"
   ]
  }
 ],
 "metadata": {
  "kernelspec": {
   "display_name": "Python 3",
   "language": "python",
   "name": "python3"
  },
  "language_info": {
   "codemirror_mode": {
    "name": "ipython",
    "version": 3
   },
   "file_extension": ".py",
   "mimetype": "text/x-python",
   "name": "python",
   "nbconvert_exporter": "python",
   "pygments_lexer": "ipython3",
   "version": "3.6.7"
  }
 },
 "nbformat": 4,
 "nbformat_minor": 2
}
