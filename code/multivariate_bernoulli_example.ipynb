{
 "cells": [
  {
   "cell_type": "code",
   "execution_count": 1,
   "metadata": {},
   "outputs": [],
   "source": [
    "import numpy as np\n",
    "\n",
    "from multivariate_bernoulli import MultivariateBernoulli"
   ]
  },
  {
   "cell_type": "code",
   "execution_count": 2,
   "metadata": {},
   "outputs": [],
   "source": [
    "%load_ext autoreload\n",
    "%autoreload 2"
   ]
  },
  {
   "cell_type": "markdown",
   "metadata": {},
   "source": [
    "# Parameterizing a multivariate Bernoulli\n",
    "Consider an M-dimensional multivariate Bernoulli. For illustrative example, we'll use M=3. We can think of this as a univariate categorical random variable $X_{cat}$ with $2^M$ states (in our 3-dim example: 8 states). The event $V_{abc} = \\{X_1=a, X_2=b, X_3=c\\}$ in the multivariate Bernoulli is just a binary encoding $abc$ of the event that the categorical variable the $k$th state, where $k = \n",
    "\\text{decode}(abc)$. For example $V_{011} = V^{cat}_3$.\n",
    "\n",
    "As we'll see, there is benefit to structuring as a multivariate Bernoulli for the sake of extracting marginal and conditional probabilities of events though. For example, the event that $\\{X_1=1, X_3=0\\}$ can be denoted as something like $V_{1?0}$. Thus to enable us to compute the probability of something like $V_{1?0}$, we might not want to parameterize the probabilities of each of the $2^M$ states of the categorical random variable in a vector $P(X_{cat} = k) = \\mu^{cat}_k$ where $\\mu^{cat} \\in [0, 1]^{2^M}$ and $\\sum\\limits_i \\mu^{cat}_i = 1$, but instead use a rank-$M$ tensor so that $P(X_{cat} = k) = P(X = \\text{encode}(k)) = \\mu_{\\text{encode}(k)}$ (for example, $P(X_{cat} = 5) = P(X = [1, 0, 1]) = \\mu_{101}$. This gives us the tensor $\\mu \\in [0, 1]^{2 \\times 2 \\times \\dots \\times 2}$ where $\\sum\\limits_{i_1} \\sum\\limits_{i_2} \\dots \\sum\\limits_{i_M} \\mu_{i_1 i_2 \\dots i_M} = 1$. From this construction, $\\mu_{abc} = \\mu^{cat}_{\\text{decode}(abc)}$, i.e. $\\mu_{010} = \\mu^{cat}_{2}$.\n",
    "\n",
    "## Marginal probabilities\n",
    "Armed with our tensor $\\mu$, we can easily marginalize the multivariate Bernoulli distribution. Take for example our earlier event $V_{1?0}$. If we want the probability of $V_{1?0}$, we have to marginalize over the second dimension that corresponds to the unknown $X_2$. The equation for this is $P(V_{1?0}) = \\left(\\sum\\limits_j \\mu_{ijk}\\right)_{10}$. What we are doing here is marginalizing over the second dimension corresponding to $X_2$ to create a rank $3-1=2$ tensor that represents the marginal distribution over $X_1$ and $X_3$, and then we simply look up the event $X_1 = 1, X_3 = 0$ by indexing as above.\n",
    "\n",
    "## Conditional probabilities\n",
    "Since $P(X_1 = a, X_2=b \\dots | X_3 = c, X_4 = d \\dots) = \\frac{P(X_1 = a, X_2 = b, \\dots, X_3 = c, X_4 = d, \\dots)}{P(X_3 = c, X_4 = d, \\dots)}$, we can use the marginalization above to compute the numerator and denominator, and then we can get the conditional probability.\n",
    "\n",
    "## Conditional distribution\n",
    "Alternatively, we can create a new multivariate Bernoulli of lower dimension by conditioning on information. To do this, we can just slice our tensor by the conditions, compute the marginal probability of this event in the same way as above (which is equivalent to summing over our sliced sub-tensor), and divide our sliced sub-tensor by this probability (which normalizes all probabilities so that they sum to one once more).\n",
    "\n",
    "## Creating $\\mu$\n",
    "For a multivariate Gaussian, there is no higher-order dependence than second-degree, so a mean vector and covariance matrix suffice. This means for dimensionality $M$, a multivariate Gaussian has a vector of size $M$ and a covariance matrix of size $M^2$ and that's it. It is fairly standard to estimate these parameters via log-likelihood maximization from a dataset, or to hand-design these parameters with a lot of zeros in the covariance matrix. For the multivariate Bernoulli, there is no condition barring higher than second-order interactions. This is why we parameterize to $O(2^M)$ parameters rather than $O(M^2)$. This is in contrast to the Ising model [Ising model](https://en.wikipedia.org/wiki/Ising_model) which [this paper on the multivariate Bernoulli distribution](https://arxiv.org/abs/1206.1874) depicts as more analagous to the multivariate Gaussian for binary variables, where there is an assumption of no higher-than-second-order interactions.\n",
    "\n",
    "The above paper presents a log-likelihood based estimation procedure from data, but the question remains how best to intuitively parameterize the multivariate Bernoulli outcome probability tensor in the same way that we intuitively construct the mean vector and covariance matrix for a multivariate Gaussian. In my mind, it would be ideal to give a few conditional probabilities that describe the dependencies between dimensions of the multivariate Bernoulli, and then to use independence assumptions to fill in the probability tensor. I'll have to spend some more time thinking about which parameters and assumptions are needed to uniquely define an outcome probability tensor intuitively, though."
   ]
  },
  {
   "cell_type": "markdown",
   "metadata": {},
   "source": [
    "# Gender and weightlifting ability example\n",
    "Let's look at how we can use this parameterization of a multivariate Bernoulli. Consider the case of where we have two features: $X_0 :=$ \"gender is male\" and $X_1 :=$ \"good weightlifting ability\". These features are Bernoulli random variables.\n",
    "\n",
    "We shall consider the case where there is some statistical dependence between $X_0$ and $X_1$. To parameterize this, we can fix:\n",
    "- the conditional mean $\\mu_{lift | male} = E[X_1 | X_0 = 1]$\n",
    "- a different conditional mean $\\mu_{lift | female} = E[X_1 | X_0 = 0]$\n",
    "- and the gender mean $\\mu_{male} = E[X_0]$\n",
    "\n",
    "Knowing these terms, we can calculate (by the law of total probability and Bayes theorem):\n",
    "- the lifter mean $\\mu_{lift} = E[X_0] = (1 - \\mu_{male}) \\mu_{lift | female} + \\mu_{male} \\mu_{lift | male}$\n",
    "- the conditional mean $\\mu_{male | lift} = E[X_0 | X_1 = 1] = \\frac{ \\mu_{lift | male} \\mu_{male} }{\\mu_{lift}}$\n",
    "- the conditional mean $\\mu_{male | nolift} = E[X_0 | X_1 = 0] = \\frac{ (1 - \\mu_{lift | male}) \\mu_{male} }{1 - \\mu_{lift}}$\n",
    "\n",
    "We can also construct an outcome probability tensor:\n",
    "- $\\mu_{11} = \\mu_{lift | male} \\mu_{male}$\n",
    "- $\\mu_{01} = \\mu_{lift | female} (1 - \\mu_{male})$\n",
    "- etc."
   ]
  },
  {
   "cell_type": "code",
   "execution_count": 3,
   "metadata": {},
   "outputs": [
    {
     "name": "stdout",
     "output_type": "stream",
     "text": [
      "mu_lift        = 0.5000\n",
      "mu_male_lift   = 0.8000\n",
      "mu_male_nolift = 0.2000\n",
      "\n",
      "Probability tensor:\n",
      "[[0.4 0.1]\n",
      " [0.1 0.4]]\n",
      "\n",
      "Probability table:\n"
     ]
    },
    {
     "data": {
      "text/html": [
       "<div>\n",
       "<style scoped>\n",
       "    .dataframe tbody tr th:only-of-type {\n",
       "        vertical-align: middle;\n",
       "    }\n",
       "\n",
       "    .dataframe tbody tr th {\n",
       "        vertical-align: top;\n",
       "    }\n",
       "\n",
       "    .dataframe thead th {\n",
       "        text-align: right;\n",
       "    }\n",
       "</style>\n",
       "<table border=\"1\" class=\"dataframe\">\n",
       "  <thead>\n",
       "    <tr style=\"text-align: right;\">\n",
       "      <th></th>\n",
       "      <th>is_male</th>\n",
       "      <th>is_good_lifter</th>\n",
       "      <th>p(X)</th>\n",
       "    </tr>\n",
       "  </thead>\n",
       "  <tbody>\n",
       "    <tr>\n",
       "      <th>0</th>\n",
       "      <td>0</td>\n",
       "      <td>0</td>\n",
       "      <td>0.4</td>\n",
       "    </tr>\n",
       "    <tr>\n",
       "      <th>1</th>\n",
       "      <td>0</td>\n",
       "      <td>1</td>\n",
       "      <td>0.1</td>\n",
       "    </tr>\n",
       "    <tr>\n",
       "      <th>2</th>\n",
       "      <td>1</td>\n",
       "      <td>0</td>\n",
       "      <td>0.1</td>\n",
       "    </tr>\n",
       "    <tr>\n",
       "      <th>3</th>\n",
       "      <td>1</td>\n",
       "      <td>1</td>\n",
       "      <td>0.4</td>\n",
       "    </tr>\n",
       "  </tbody>\n",
       "</table>\n",
       "</div>"
      ],
      "text/plain": [
       "   is_male  is_good_lifter  p(X)\n",
       "0        0               0   0.4\n",
       "1        0               1   0.1\n",
       "2        1               0   0.1\n",
       "3        1               1   0.4"
      ]
     },
     "metadata": {},
     "output_type": "display_data"
    },
    {
     "name": "stdout",
     "output_type": "stream",
     "text": [
      "\n",
      "\n",
      "Correlation matrix:\n"
     ]
    },
    {
     "data": {
      "text/html": [
       "<div>\n",
       "<style scoped>\n",
       "    .dataframe tbody tr th:only-of-type {\n",
       "        vertical-align: middle;\n",
       "    }\n",
       "\n",
       "    .dataframe tbody tr th {\n",
       "        vertical-align: top;\n",
       "    }\n",
       "\n",
       "    .dataframe thead th {\n",
       "        text-align: right;\n",
       "    }\n",
       "</style>\n",
       "<table border=\"1\" class=\"dataframe\">\n",
       "  <thead>\n",
       "    <tr style=\"text-align: right;\">\n",
       "      <th></th>\n",
       "      <th>is_male</th>\n",
       "      <th>is_good_lifter</th>\n",
       "    </tr>\n",
       "  </thead>\n",
       "  <tbody>\n",
       "    <tr>\n",
       "      <th>is_male</th>\n",
       "      <td>1.0</td>\n",
       "      <td>0.6</td>\n",
       "    </tr>\n",
       "    <tr>\n",
       "      <th>is_good_lifter</th>\n",
       "      <td>0.6</td>\n",
       "      <td>1.0</td>\n",
       "    </tr>\n",
       "  </tbody>\n",
       "</table>\n",
       "</div>"
      ],
      "text/plain": [
       "                is_male  is_good_lifter\n",
       "is_male             1.0             0.6\n",
       "is_good_lifter      0.6             1.0"
      ]
     },
     "metadata": {},
     "output_type": "display_data"
    }
   ],
   "source": [
    "# define the parameters\n",
    "mu_lift_female = 0.2\n",
    "mu_lift_male = 0.8\n",
    "mu_male = 0.5\n",
    "\n",
    "# calculate the other known properties\n",
    "mu_lift = (1 - mu_male) * mu_lift_female + mu_male * mu_lift_male\n",
    "mu_male_lift = (mu_lift_male * mu_male) / mu_lift\n",
    "mu_male_nolift = ((1 - mu_lift_male) * mu_male) / (1 - mu_lift)\n",
    "print(f'mu_lift        = {mu_lift:.4f}')\n",
    "print(f'mu_male_lift   = {mu_male_lift:.4f}')\n",
    "print(f'mu_male_nolift = {mu_male_nolift:.4f}')\n",
    "\n",
    "# compute the probability tensor\n",
    "mu_lift_and_male = mu_lift_male * mu_male\n",
    "mu_lift_and_female = mu_lift_female * (1 - mu_male)\n",
    "mu_nolift_and_male = (1 - mu_lift_male) * mu_male\n",
    "mu_nolift_and_female = (1 - mu_lift_female) * (1 - mu_male)\n",
    "mu_matrix = np.array([[mu_nolift_and_female, mu_lift_and_female], [mu_nolift_and_male, mu_lift_and_male]])\n",
    "X = MultivariateBernoulli(mu_matrix, ['is_male', 'is_good_lifter'])\n",
    "\n",
    "print()\n",
    "\n",
    "print('Probability tensor:')\n",
    "print(X.mu)\n",
    "\n",
    "print()\n",
    "\n",
    "print('Probability table:')\n",
    "display(X.to_table())\n",
    "\n",
    "print()\n",
    "print()\n",
    "\n",
    "print('Correlation matrix:')\n",
    "display(X.corr())"
   ]
  },
  {
   "cell_type": "markdown",
   "metadata": {},
   "source": [
    "### Playing with the variable"
   ]
  },
  {
   "cell_type": "code",
   "execution_count": 4,
   "metadata": {},
   "outputs": [
    {
     "data": {
      "text/plain": [
       "0.5"
      ]
     },
     "execution_count": 4,
     "metadata": {},
     "output_type": "execute_result"
    }
   ],
   "source": [
    "X.prob({'is_male': True})"
   ]
  },
  {
   "cell_type": "code",
   "execution_count": 5,
   "metadata": {},
   "outputs": [
    {
     "data": {
      "text/plain": [
       "0.8"
      ]
     },
     "execution_count": 5,
     "metadata": {},
     "output_type": "execute_result"
    }
   ],
   "source": [
    "X.conditional({'is_male': True}).prob({'is_good_lifter': True})"
   ]
  },
  {
   "cell_type": "code",
   "execution_count": 6,
   "metadata": {},
   "outputs": [
    {
     "data": {
      "text/plain": [
       "0.2"
      ]
     },
     "execution_count": 6,
     "metadata": {},
     "output_type": "execute_result"
    }
   ],
   "source": [
    "X.conditional({'is_male': False}).prob({'is_good_lifter': True})"
   ]
  },
  {
   "cell_type": "code",
   "execution_count": 7,
   "metadata": {},
   "outputs": [
    {
     "data": {
      "text/html": [
       "<div>\n",
       "<style scoped>\n",
       "    .dataframe tbody tr th:only-of-type {\n",
       "        vertical-align: middle;\n",
       "    }\n",
       "\n",
       "    .dataframe tbody tr th {\n",
       "        vertical-align: top;\n",
       "    }\n",
       "\n",
       "    .dataframe thead th {\n",
       "        text-align: right;\n",
       "    }\n",
       "</style>\n",
       "<table border=\"1\" class=\"dataframe\">\n",
       "  <thead>\n",
       "    <tr style=\"text-align: right;\">\n",
       "      <th></th>\n",
       "      <th>is_male</th>\n",
       "      <th>is_good_lifter</th>\n",
       "      <th>p(X)</th>\n",
       "    </tr>\n",
       "  </thead>\n",
       "  <tbody>\n",
       "    <tr>\n",
       "      <th>0</th>\n",
       "      <td>0</td>\n",
       "      <td>0</td>\n",
       "      <td>0.1</td>\n",
       "    </tr>\n",
       "    <tr>\n",
       "      <th>1</th>\n",
       "      <td>0</td>\n",
       "      <td>1</td>\n",
       "      <td>0.0</td>\n",
       "    </tr>\n",
       "    <tr>\n",
       "      <th>2</th>\n",
       "      <td>1</td>\n",
       "      <td>0</td>\n",
       "      <td>0.4</td>\n",
       "    </tr>\n",
       "    <tr>\n",
       "      <th>3</th>\n",
       "      <td>1</td>\n",
       "      <td>1</td>\n",
       "      <td>0.5</td>\n",
       "    </tr>\n",
       "  </tbody>\n",
       "</table>\n",
       "</div>"
      ],
      "text/plain": [
       "   is_male  is_good_lifter  p(X)\n",
       "0        0               0   0.1\n",
       "1        0               1   0.0\n",
       "2        1               0   0.4\n",
       "3        1               1   0.5"
      ]
     },
     "execution_count": 7,
     "metadata": {},
     "output_type": "execute_result"
    }
   ],
   "source": [
    "# new mu\n",
    "mu = np.array([[0.1, 0.0], [0.4, 0.5]])\n",
    "X = MultivariateBernoulli(mu, variable_names=['is_male', 'is_good_lifter'])\n",
    "X.to_table()"
   ]
  },
  {
   "cell_type": "code",
   "execution_count": 8,
   "metadata": {},
   "outputs": [
    {
     "data": {
      "text/html": [
       "<div>\n",
       "<style scoped>\n",
       "    .dataframe tbody tr th:only-of-type {\n",
       "        vertical-align: middle;\n",
       "    }\n",
       "\n",
       "    .dataframe tbody tr th {\n",
       "        vertical-align: top;\n",
       "    }\n",
       "\n",
       "    .dataframe thead th {\n",
       "        text-align: right;\n",
       "    }\n",
       "</style>\n",
       "<table border=\"1\" class=\"dataframe\">\n",
       "  <thead>\n",
       "    <tr style=\"text-align: right;\">\n",
       "      <th></th>\n",
       "      <th>is_male</th>\n",
       "      <th>is_good_lifter</th>\n",
       "    </tr>\n",
       "  </thead>\n",
       "  <tbody>\n",
       "    <tr>\n",
       "      <th>is_male</th>\n",
       "      <td>1.000000</td>\n",
       "      <td>0.333333</td>\n",
       "    </tr>\n",
       "    <tr>\n",
       "      <th>is_good_lifter</th>\n",
       "      <td>0.333333</td>\n",
       "      <td>1.000000</td>\n",
       "    </tr>\n",
       "  </tbody>\n",
       "</table>\n",
       "</div>"
      ],
      "text/plain": [
       "                 is_male  is_good_lifter\n",
       "is_male         1.000000        0.333333\n",
       "is_good_lifter  0.333333        1.000000"
      ]
     },
     "execution_count": 8,
     "metadata": {},
     "output_type": "execute_result"
    }
   ],
   "source": [
    "X.corr()"
   ]
  },
  {
   "cell_type": "code",
   "execution_count": 9,
   "metadata": {},
   "outputs": [
    {
     "name": "stdout",
     "output_type": "stream",
     "text": [
      "Uncorrelated X probability:\n"
     ]
    },
    {
     "data": {
      "text/html": [
       "<div>\n",
       "<style scoped>\n",
       "    .dataframe tbody tr th:only-of-type {\n",
       "        vertical-align: middle;\n",
       "    }\n",
       "\n",
       "    .dataframe tbody tr th {\n",
       "        vertical-align: top;\n",
       "    }\n",
       "\n",
       "    .dataframe thead th {\n",
       "        text-align: right;\n",
       "    }\n",
       "</style>\n",
       "<table border=\"1\" class=\"dataframe\">\n",
       "  <thead>\n",
       "    <tr style=\"text-align: right;\">\n",
       "      <th></th>\n",
       "      <th>is_male</th>\n",
       "      <th>is_good_lifter</th>\n",
       "      <th>p(X)</th>\n",
       "    </tr>\n",
       "  </thead>\n",
       "  <tbody>\n",
       "    <tr>\n",
       "      <th>0</th>\n",
       "      <td>0</td>\n",
       "      <td>0</td>\n",
       "      <td>0.05</td>\n",
       "    </tr>\n",
       "    <tr>\n",
       "      <th>1</th>\n",
       "      <td>0</td>\n",
       "      <td>1</td>\n",
       "      <td>0.05</td>\n",
       "    </tr>\n",
       "    <tr>\n",
       "      <th>2</th>\n",
       "      <td>1</td>\n",
       "      <td>0</td>\n",
       "      <td>0.45</td>\n",
       "    </tr>\n",
       "    <tr>\n",
       "      <th>3</th>\n",
       "      <td>1</td>\n",
       "      <td>1</td>\n",
       "      <td>0.45</td>\n",
       "    </tr>\n",
       "  </tbody>\n",
       "</table>\n",
       "</div>"
      ],
      "text/plain": [
       "   is_male  is_good_lifter  p(X)\n",
       "0        0               0  0.05\n",
       "1        0               1  0.05\n",
       "2        1               0  0.45\n",
       "3        1               1  0.45"
      ]
     },
     "metadata": {},
     "output_type": "display_data"
    },
    {
     "name": "stdout",
     "output_type": "stream",
     "text": [
      "\n",
      "\n",
      "Uncorrelated X correlation:\n"
     ]
    },
    {
     "data": {
      "text/html": [
       "<div>\n",
       "<style scoped>\n",
       "    .dataframe tbody tr th:only-of-type {\n",
       "        vertical-align: middle;\n",
       "    }\n",
       "\n",
       "    .dataframe tbody tr th {\n",
       "        vertical-align: top;\n",
       "    }\n",
       "\n",
       "    .dataframe thead th {\n",
       "        text-align: right;\n",
       "    }\n",
       "</style>\n",
       "<table border=\"1\" class=\"dataframe\">\n",
       "  <thead>\n",
       "    <tr style=\"text-align: right;\">\n",
       "      <th></th>\n",
       "      <th>is_male</th>\n",
       "      <th>is_good_lifter</th>\n",
       "    </tr>\n",
       "  </thead>\n",
       "  <tbody>\n",
       "    <tr>\n",
       "      <th>is_male</th>\n",
       "      <td>1.0</td>\n",
       "      <td>0.0</td>\n",
       "    </tr>\n",
       "    <tr>\n",
       "      <th>is_good_lifter</th>\n",
       "      <td>0.0</td>\n",
       "      <td>1.0</td>\n",
       "    </tr>\n",
       "  </tbody>\n",
       "</table>\n",
       "</div>"
      ],
      "text/plain": [
       "                is_male  is_good_lifter\n",
       "is_male             1.0             0.0\n",
       "is_good_lifter      0.0             1.0"
      ]
     },
     "metadata": {},
     "output_type": "display_data"
    }
   ],
   "source": [
    "X_uncorrelated = X.joint_marginal()\n",
    "\n",
    "print('Uncorrelated X probability:')\n",
    "display(X_uncorrelated.to_table())\n",
    "\n",
    "print()\n",
    "print()\n",
    "\n",
    "print('Uncorrelated X correlation:')\n",
    "display(X_uncorrelated.corr())"
   ]
  }
 ],
 "metadata": {
  "kernelspec": {
   "display_name": "Python 3",
   "language": "python",
   "name": "python3"
  },
  "language_info": {
   "codemirror_mode": {
    "name": "ipython",
    "version": 3
   },
   "file_extension": ".py",
   "mimetype": "text/x-python",
   "name": "python",
   "nbconvert_exporter": "python",
   "pygments_lexer": "ipython3",
   "version": "3.6.7"
  }
 },
 "nbformat": 4,
 "nbformat_minor": 2
}
